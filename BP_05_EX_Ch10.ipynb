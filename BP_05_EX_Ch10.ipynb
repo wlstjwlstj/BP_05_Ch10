{
  "nbformat": 4,
  "nbformat_minor": 0,
  "metadata": {
    "colab": {
      "provenance": [],
      "history_visible": true,
      "authorship_tag": "ABX9TyNxeWfIpcUCFE3I4d0dInUk",
      "include_colab_link": true
    },
    "kernelspec": {
      "name": "python3",
      "display_name": "Python 3"
    },
    "language_info": {
      "name": "python"
    }
  },
  "cells": [
    {
      "cell_type": "markdown",
      "metadata": {
        "id": "view-in-github",
        "colab_type": "text"
      },
      "source": [
        "<a href=\"https://colab.research.google.com/github/wlstjwlstj/BP_05_Ch10/blob/main/BP_05_EX_Ch10.ipynb\" target=\"_parent\"><img src=\"https://colab.research.google.com/assets/colab-badge.svg\" alt=\"Open In Colab\"/></a>"
      ]
    },
    {
      "cell_type": "markdown",
      "source": [
        "1. 다음과 같이 하나의 레이블과 2개의 버튼을 가지는 프로그램을 작성해보자."
      ],
      "metadata": {
        "id": "sxZHuVEwiOxn"
      }
    },
    {
      "cell_type": "code",
      "source": [
        "from tkinter import*\n",
        "window=Tk()\n",
        "label=Label(window,text=\"간단한 GUI 프로그램!\")\n",
        " \n",
        "label.pack()\n",
        " \n",
        "b1 = Button(window,text = \"환영합니다.\")\n",
        "b2 = Button(window,text = \"종료\")\n",
        "b1.pack()\n",
        "b2.pack()\n",
        " \n",
        "window.mainloop()"
      ],
      "metadata": {
        "id": "Nt75F8BkmgOL"
      },
      "execution_count": null,
      "outputs": []
    },
    {
      "cell_type": "markdown",
      "source": [
        "2. 숫자를 입력하고 \"더하기\" 버튼을 누르면 합계에 더해지고, \"빼기\" 버튼을 누르면 합계에서 빼지는 계산기를 작성하여 본다."
      ],
      "metadata": {
        "id": "lm6UpPj9im42"
      }
    },
    {
      "cell_type": "code",
      "source": [
        "def plus():\n",
        "    global total\n",
        "    total += int(e.get())\n",
        "    display()\n",
        "\n",
        "def minus():\n",
        "    global total\n",
        "    total -= int(e.get())\n",
        "    display()\n",
        "\n",
        "def reset():\n",
        "    global total\n",
        "    total = 100\n",
        "    display()\n",
        "\n",
        "def display():\n",
        "    global secondLabel\n",
        "    secondLabel.destroy() \n",
        "    secondLabel = Label(window,text=total)\n",
        "    secondLabel.grid(row=0,column=1) \n",
        "\n",
        "\n",
        "from tkinter import *\n",
        "\n",
        "total = 100\n",
        "\n",
        "window = Tk()\n",
        "\n",
        "firstLabel  = Label(window, text=\"현재 합계: \")\n",
        "secondLabel = Label(window, text=total)\n",
        "\n",
        "firstLabel.grid(row=0,column=0) \n",
        "secondLabel.grid(row=0, column=1)\n",
        "\n",
        "e = Entry(window) \n",
        "e.grid(row=1,column=0, columnspan=3) \n",
        "\n",
        "plusBtn  = Button(window, text=\"더하기(+)\", command=plus) \n",
        "minusBtn = Button(window, text=\"빼기(-)\", command=minus) \n",
        "resetBtn = Button(window, text=\"초기화\", command=reset)\n",
        "\n",
        "plusBtn.grid(row=2, column=0)\n",
        "minusBtn.grid(row=2, column=1)\n",
        "resetBtn.grid(row=2, column=2)\n",
        "\n",
        "window.mainloop()"
      ],
      "metadata": {
        "id": "7bLZYTbki7YN"
      },
      "execution_count": null,
      "outputs": []
    },
    {
      "cell_type": "markdown",
      "source": [
        "3. 우리가 앞에서 텍스트 버전으로 제작하였던 숫자 맞추기 게임을 그래픽 사용자 인터페이스 버전으로 작성해보자."
      ],
      "metadata": {
        "id": "NzqNV0Joi7j0"
      }
    },
    {
      "cell_type": "code",
      "source": [
        "from tkinter import *\n",
        "import random\n",
        "\n",
        "window = Tk()\n",
        "num = 0\n",
        "betNum = random.randint(1,100)\n",
        "\n",
        "def run():\n",
        "    global num\n",
        "    global betNum\n",
        "\n",
        "    num = int(e.get())\n",
        "    if num < betNum:\n",
        "        firstLabel['text'] = \"너무 낮아요!!\"\n",
        "    elif num > betNum:\n",
        "        firstLabel['text'] = \"너무 높아요!!\"\n",
        "    else:\n",
        "        firstLabel['text'] = \"정답입니다!\"\n",
        "\n",
        "def reset():\n",
        "    global num\n",
        "    global betNum\n",
        "\n",
        "    e.delete(0,END)\n",
        "    secondLabel.config(text=\"\")\n",
        "    betNum = random.randint(1,100)\n",
        "    num = 0\n",
        "\n",
        "firstLabel = Label(window, text=\"1에서 100사이의 수를 입력하세요.\")\n",
        "secondLabel = Label(window,)\n",
        "thridLabel = Label(window, )\n",
        "\n",
        "firstLabel.grid(row=1, column=0, columnspan=2)\n",
        "secondLabel.grid(row=2, column=0, columnspan=2)\n",
        "thridLabel.grid(row=4, column=0, columnspan=2)\n",
        "\n",
        "e = Entry(window)\n",
        "e.grid(row=3, column=0, columnspan=2)\n",
        "\n",
        "firstBtn = Button(window, text=\"숫자를 입력\", command = run)\n",
        "secondBtn= Button(window, text=\"게임을 다시 실행\", command = reset)\n",
        "\n",
        "firstBtn.grid(row=5, column=0)\n",
        "secondBtn.grid(row=5, column=1)\n",
        "\n",
        "window.mainloop()"
      ],
      "metadata": {
        "id": "qnI1NaWbjCY1"
      },
      "execution_count": null,
      "outputs": []
    },
    {
      "cell_type": "markdown",
      "source": [
        "4. 인치를 센티미터로 변환하는 다음과 같은 프로그램을 작성해보자."
      ],
      "metadata": {
        "id": "xfw2ksf6jCgs"
      }
    },
    {
      "cell_type": "code",
      "source": [
        "def changedInch():\n",
        "    inch  = int(e.get())  \n",
        "    centi = inch * 2.54 # 인치 -> 센티미터\n",
        "    forthLabel.configure(text = str(centi)+\" 센티미터\") \n",
        "    \n",
        "\n",
        "from tkinter import *\n",
        "\n",
        "window = Tk()\n",
        "\n",
        "firstLabel = Label(window, text = \"인치를 센티미터로 변환하는 프로그램: \")\n",
        "firstLabel.grid(row=0, column=0,columnspan=2) \n",
        "\n",
        "secondLabel = Label(window, text = \"인치를 입력하시오:\")\n",
        "secondLabel.grid(row=1, column=0)\n",
        "\n",
        "e = Entry()\n",
        "e.grid(row=1, column=1)\n",
        "\n",
        "thirdLabel = Label(window, text = \"변환결과:\")\n",
        "thirdLabel.grid(row=2, column=0)\n",
        "\n",
        "forthLabel = Label(window, text = \"0 센티미터\")\n",
        "\n",
        "forthLabel.grid(row=2, column=1)\n",
        "\n",
        "changeBtn = Button(window, text=\"변환!\", command=changedInch)\n",
        "changeBtn.grid(row=3, column=1)\n",
        "\n",
        "window.mainloop()"
      ],
      "metadata": {
        "id": "f5xPkfNRjG1c"
      },
      "execution_count": null,
      "outputs": []
    },
    {
      "cell_type": "markdown",
      "source": [
        "5. 데이터를 입력받을 때 사용할 수 있는 다음과 같은 어플리케이션을 작성해보자."
      ],
      "metadata": {
        "id": "lXfhSYfcjG78"
      }
    },
    {
      "cell_type": "code",
      "source": [
        "from tkinter import*\n",
        " \n",
        "window=Tk()\n",
        " \n",
        " \n",
        "l1 = Label(window, text=\" 이름 \")\n",
        "l1.grid(row=0, column=0)\n",
        "l2 = Label(window, text=\" 직업 \")\n",
        "l2.grid(row=1, column=0)\n",
        "l3 = Label(window, text=\" 국적 \")\n",
        "l3.grid(row=2, column=0)\n",
        " \n",
        "e1 = Entry(window)\n",
        "e1.grid(row=0, column=1)\n",
        "e2 = Entry(window)\n",
        "e2.grid(row=1, column=1)\n",
        "e3 = Entry(window)\n",
        "e3.grid(row=2, column=1)\n",
        " \n",
        " \n",
        "b1 = Button(window, text=\"Show\")\n",
        "b1.grid(row=3, column=0)\n",
        "b2 = Button(window, text=\"Quit\")\n",
        "b2.grid(row=3, column=1)\n",
        " \n",
        "window.mainloop()"
      ],
      "metadata": {
        "id": "BNUJ5HcwjMkc"
      },
      "execution_count": null,
      "outputs": []
    },
    {
      "cell_type": "markdown",
      "source": [
        "6. 가위,바위,보 게임을 GUI 버전으로 작성해보자. 사용자의 선택은 왼쪽에 이미지로 표시한다. 컴퓨터의 선택은 오른쪽에 이미지로 표시한다. 사용자는 버튼을 눌러서 가위,바위,보 중에서 하나를 선택할 수 있다. 사용자의 선택이 끝나면 결과를 화면에 텍스트로 표시한다."
      ],
      "metadata": {
        "id": "RCugSDlKjMrc"
      }
    },
    {
      "cell_type": "code",
      "source": [],
      "metadata": {
        "id": "4wqDfOwqjhle"
      },
      "execution_count": null,
      "outputs": []
    }
  ]
}