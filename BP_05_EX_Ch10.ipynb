{
  "nbformat": 4,
  "nbformat_minor": 0,
  "metadata": {
    "colab": {
      "provenance": [],
      "authorship_tag": "ABX9TyPZt7KU+FVolUbV9/IJZ4co",
      "include_colab_link": true
    },
    "kernelspec": {
      "name": "python3",
      "display_name": "Python 3"
    },
    "language_info": {
      "name": "python"
    }
  },
  "cells": [
    {
      "cell_type": "markdown",
      "metadata": {
        "id": "view-in-github",
        "colab_type": "text"
      },
      "source": [
        "<a href=\"https://colab.research.google.com/github/wlstjwlstj/BP_05_Ch10/blob/main/BP_05_EX_Ch10.ipynb\" target=\"_parent\"><img src=\"https://colab.research.google.com/assets/colab-badge.svg\" alt=\"Open In Colab\"/></a>"
      ]
    },
    {
      "cell_type": "markdown",
      "source": [
        "1. 다음과 같이 하나의 레이블과 2개의 버튼을 가지는 프로그램을 작성해보자."
      ],
      "metadata": {
        "id": "sxZHuVEwiOxn"
      }
    },
    {
      "cell_type": "code",
      "source": [
        "from tkinter import Tk, Label, Button\n",
        "def greet():\n",
        " print(\"파이썬에 오신 것을 환영합니다. \")\n",
        "window = Tk()\n",
        "label = Label(window, text=\"간단한 GUI 프로그램!\")\n",
        "label.pack()\n",
        "greet_button = Button(window, text=\"환영합니다.\", command=greet)\n",
        "greet_button.pack()\n",
        "close_button = Button(window, text=\"종료\", command=window.quit)\n",
        "close_button.pack()\n",
        "window.mainloop()"
      ],
      "metadata": {
        "id": "4CPfesxlWx9c"
      },
      "execution_count": null,
      "outputs": []
    },
    {
      "cell_type": "markdown",
      "source": [
        "2. 숫자를 입력하고 \"더하기\" 버튼을 누르면 합계에 더해지고, \"빼기\" 버튼을 누르면 합계에서 빼지는 계산기를 작성하여 본다."
      ],
      "metadata": {
        "id": "lm6UpPj9im42"
      }
    },
    {
      "cell_type": "code",
      "source": [
        "from tkinter import Tk, Label, Button, Entry, IntVar, END, W, E\n",
        "def update_add():\n",
        " update(\"add\")\n",
        "def update_subtract():\n",
        " update(\"subtract\")\n",
        "def update_reset():\n",
        " update(\"reset\")\n",
        "window = Tk()\n",
        "total = 0\n",
        "sum = Label(window)\n",
        "sum.grid(row=0, column=1, columnspan=2)\n",
        "label = Label(window, text=\"현재 합계:\")\n",
        "label.grid(row=0, column=0)\n",
        "entry = Entry(window)\n",
        "entry.grid(row=1, column=0, columnspan=3)\n",
        "add_button = Button(window, text=\"더하기(+)\", command=update_add)\n",
        "subtract_button = Button(window, text=\"빼기(-)\", command=update_subtract)\n",
        "reset_button = Button(window, text=\"초기화\", command=update_reset)\n",
        "add_button.grid(row=2, column=0)\n",
        "subtract_button.grid(row=2, column=1)\n",
        "reset_button.grid(row=2, column=2)\n",
        "def update(method):\n",
        " global total\n",
        " if method == \"add\":\n",
        "    total += int(entry.get())\n",
        " elif method == \"subtract\":\n",
        "    total -= int(entry.get())\n",
        " else:\n",
        "    total = 0\n",
        " sum['text'] = str(total)\n",
        " entry.delete(0, END)\n",
        "window.mainloop()"
      ],
      "metadata": {
        "id": "6ZKlxpBtYwLR"
      },
      "execution_count": null,
      "outputs": []
    },
    {
      "cell_type": "markdown",
      "source": [
        "3. 우리가 앞에서 텍스트 버전으로 제작하였던 숫자 맞추기 게임을 그래픽 사용자 인터페이스 버전으로 작성해보자."
      ],
      "metadata": {
        "id": "NzqNV0Joi7j0"
      }
    },
    {
      "cell_type": "code",
      "source": [
        "import random\n",
        "from tkinter import *\n",
        "window = Tk()\n",
        "secret_number = random.randint(1, 100)\n",
        "guess = None\n",
        "num_guesses = 0\n",
        "def guess_number():\n",
        " global num_guesses\n",
        " guess = int(entry.get())\n",
        " num_guesses += 1\n",
        " if guess == secret_number:\n",
        " message = \"축하합니다!!\"\n",
        " elif guess < secret_number:\n",
        " message = \"너무 낮아요!!\"\n",
        " else:\n",
        " message = \"너무 높아요!!\"\n",
        " label['text']= message\n",
        "def reset():\n",
        " global num_guesses\n",
        " entry.delete(0, END)\n",
        " secret_number = random.randint(1, 100)\n",
        " guess = 0\n",
        " num_guesses = 0\n",
        " message = \"1부터 100사이의 숫자를 추측하시오\"\n",
        " label['text']= message\n",
        "message = \"1부터 100사이의 숫자를 추측하시오\"\n",
        "label = Label(window, text=message)\n",
        "entry = Entry(window)\n",
        "guess_button = Button(window, text=\"숫자를 입력\", command=guess_number)\n",
        "reset_button = Button(window, text=\"게임을 다시 실행\", command=reset)\n",
        "label.grid(row=0, column=0, columnspan=2, sticky=W+E)\n",
        "entry.grid(row=1, column=0, columnspan=2, sticky=W+E)\n",
        "guess_button.grid(row=2, column=0)\n",
        "reset_button.grid(row=2, column=1)\n",
        "window.mainloop()"
      ],
      "metadata": {
        "id": "hcqzX1XqYve7"
      },
      "execution_count": null,
      "outputs": []
    },
    {
      "cell_type": "markdown",
      "source": [
        "4. 인치를 센티미터로 변환하는 다음과 같은 프로그램을 작성해보자."
      ],
      "metadata": {
        "id": "xfw2ksf6jCgs"
      }
    },
    {
      "cell_type": "code",
      "source": [
        "def changedInch():\n",
        "    inch  = int(e.get())  \n",
        "    centi = inch * 2.54 # 인치 -> 센티미터\n",
        "    forthLabel.configure(text = str(centi)+\" 센티미터\") \n",
        "    \n",
        "\n",
        "from tkinter import *\n",
        "\n",
        "window = Tk()\n",
        "\n",
        "firstLabel = Label(window, text = \"인치를 센티미터로 변환하는 프로그램: \")\n",
        "firstLabel.grid(row=0, column=0,columnspan=2) \n",
        "\n",
        "secondLabel = Label(window, text = \"인치를 입력하시오:\")\n",
        "secondLabel.grid(row=1, column=0)\n",
        "\n",
        "e = Entry()\n",
        "e.grid(row=1, column=1)\n",
        "\n",
        "thirdLabel = Label(window, text = \"변환결과:\")\n",
        "thirdLabel.grid(row=2, column=0)\n",
        "\n",
        "forthLabel = Label(window, text = \"0 센티미터\")\n",
        "\n",
        "forthLabel.grid(row=2, column=1)\n",
        "\n",
        "changeBtn = Button(window, text=\"변환!\", command=changedInch)\n",
        "changeBtn.grid(row=3, column=1)\n",
        "\n",
        "window.mainloop()"
      ],
      "metadata": {
        "id": "f5xPkfNRjG1c"
      },
      "execution_count": null,
      "outputs": []
    },
    {
      "cell_type": "markdown",
      "source": [
        "5. 데이터를 입력받을 때 사용할 수 있는 다음과 같은 어플리케이션을 작성해보자."
      ],
      "metadata": {
        "id": "lXfhSYfcjG78"
      }
    },
    {
      "cell_type": "code",
      "source": [
        "from tkinter import *\n",
        "fields = '이름', '직업', '국적'\n",
        "def fetch(entries):\n",
        " for entry in entries:\n",
        "     field = entry[0]\n",
        " text = entry[1].get()\n",
        " print('%s: \"%s\"' % (field, text))\n",
        "def makeform(root, fields):\n",
        " entries = []\n",
        " for field in fields:\n",
        "    row = Frame(root)\n",
        " lab = Label(row, width=15, text=field)\n",
        " ent = Entry(row)\n",
        " row.pack(side=TOP, fill=X)\n",
        " lab.pack(side=LEFT)\n",
        " ent.pack(side=RIGHT, expand=YES, fill=X)\n",
        " entries.append((field, ent))\n",
        " return entries\n",
        "root = Tk()\n",
        "ents = makeform(root, fields)\n",
        "root.bind('<Return>', (lambda event, e=ents: fetch(e)))\n",
        "b1 = Button(root, text='보여주기',\n",
        " command=(lambda e=ents: fetch(e)))\n",
        "b1.pack(side=LEFT, padx=5, pady=5)\n",
        "b2 = Button(root, text='종료하기', command=root.quit)\n",
        "b2.pack(side=LEFT, padx=5, pady=5)\n",
        "root.mainloop()"
      ],
      "metadata": {
        "id": "SrFBjlGzafm0"
      },
      "execution_count": null,
      "outputs": []
    },
    {
      "cell_type": "markdown",
      "source": [
        "6. 가위,바위,보 게임을 GUI 버전으로 작성해보자. 사용자의 선택은 왼쪽에 이미지로 표시한다. 컴퓨터의 선택은 오른쪽에 이미지로 표시한다. 사용자는 버튼을 눌러서 가위,바위,보 중에서 하나를 선택할 수 있다. 사용자의 선택이 끝나면 결과를 화면에 텍스트로 표시한다."
      ],
      "metadata": {
        "id": "RCugSDlKjMrc"
      }
    },
    {
      "cell_type": "code",
      "source": [
        "from random import *\n",
        "from tkinter import *\n",
        "# 선택 하는 부분\n",
        "def user_choice_rock():\n",
        "    user_choice = \"rock\"\n",
        "    turn(user_choice)\n",
        "    user_image.configure(image=rock_image)\n",
        "def user_choice_paper():\n",
        "    user_choice = \"paper\"\n",
        "    turn(user_choice)\n",
        "    user_image.configure(image=paper_image)\n",
        "def user_choice_scissors():\n",
        "    user_choice = \"scissors\"\n",
        "    turn(user_choice)\n",
        "    user_image.configure(image=scissors_image)\n",
        "# 게임부분\n",
        "def turn(user_choice):\n",
        "    oppo = ['rock', 'paper', 'scissors']\n",
        "    oppo_choice=oppo[randint(0,2)]\n",
        " \n",
        "elif(oppo_choice=='rock'):\n",
        "    oppo_image.configure(image=rock_image)\n",
        "    if(user_choice=='paper'):\n",
        "       turn_result.configure(text=\"사용자 승!\", fg=\"green\")\n",
        "      compare.configure(text=\">>>>>\")\n",
        "    elif(user_choice=='scissors'):\n",
        "         turn_result.configure(text=\"컴퓨터 승!\", fg=\"red\")\n",
        "         compare.configure(text=\"<<<<<\")\n",
        "    else:\n",
        "         turn_result.configure(text=\"무승부\", fg=\"gray\")\n",
        "         compare.configure(text=\"=====\")\n",
        "elif(oppo_choice=='paper'):\n",
        "    oppo_image.configure(image=paper_image)\n",
        "    if(user_choice=='scissors'):\n",
        "      turn_result.configure(text=\"사용자 승!\", fg=\"green\")\n",
        "     compare.configure(text=\">>>>>\")\n",
        "    elif(user_choice=='rock'):\n",
        "        turn_result.configure(text=\"컴퓨터 승!\", fg=\"red\")\n",
        "        compare.configure(text=\"<<<<<\")\n",
        "    else:\n",
        "        turn_result.configure(text=\"무승부\", fg=\"gray\")\n",
        "        compare.configure(text=\"=====\")\n",
        "elif(oppo_choice=='scissors'):\n",
        "    oppo_image.configure(image=scissors_image)\n",
        "    if(user_choice=='rock'):\n",
        "       turn_result.configure(text=\"사용자 승!\", fg=\"green\")\n",
        "       compare.configure(text=\">>>>>\")\n",
        "    elif(user_choice=='paper'):\n",
        "        turn_result.configure(text=\"컴퓨터 승!\", fg=\"red\")\n",
        "        compare.configure(text=\"<<<<<\")\n",
        "    else:\n",
        "         turn_result.configure(text=\"무승부\", fg=\"gray\")\n",
        "         compare.configure(text=\"=====\")\n",
        "\n",
        "# 메인 프로그램\n",
        "main_window = Tk()\n",
        "rock_button = Button(main_window, width=20, text=\"바위\", justify=CENTER,\n",
        "command=user_choice_rock,\n",
        "paper_button = Button(main_window, width=20, text=\"보\", justify=CENTER,\n",
        "command=user_choice_paper, \n",
        "scissors_button = Button(main_window, width=20, text=\"가위\", justify=CENTER,\n",
        "command=user_choice_scissors, \n",
        "rock_image = PhotoImage(file=\"d:/python/bawi.gif\")\n",
        "paper_image = PhotoImage(file=\"d:/python/bo.gif\")\n",
        "scissors_image = PhotoImage(file=\"d:/python/gawi.gif\")\n",
        "user_image = Label(text=\"사용자\", image=rock_image)\n",
        "user_image.image = rock_image\n",
        "compare = Label(main_window, justify=CENTER, font=(\"Helvetica\", 30))\n",
        "oppo_image = Label(text=\"컴퓨터\",image=paper_image)\n",
        "oppo_image.image = paper_image\n",
        "turn_result = Label(main_window, width=20, justify=CENTER, font=(\"Helvetica\", 20))\n",
        "# 그리드 생성\n",
        "rock_button.grid(row=5, column=1)\n",
        "paper_button.grid(row=5, column=2)\n",
        "scissors_button.grid(row=5, column=3)\n",
        "user_image.grid(row=3, column=1)\n",
        "compare.grid(row=3, column=2)\n",
        "oppo_image.grid(row=3, column=3)\n",
        "turn_result.grid(row=4, column=2)\n",
        "# GUI화면 루프처리\n",
        "main_window.mainloop()"
      ],
      "metadata": {
        "id": "oWONRcTiRm7P"
      },
      "execution_count": null,
      "outputs": []
    }
  ]
}